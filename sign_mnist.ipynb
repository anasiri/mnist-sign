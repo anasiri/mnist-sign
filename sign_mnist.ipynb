{
 "cells": [
  {
   "cell_type": "code",
   "execution_count": 2,
   "metadata": {},
   "outputs": [],
   "source": [
    "import pandas as pd\n",
    "import numpy as np\n",
    "import matplotlib.pyplot as plt\n",
    "import seaborn as sns\n",
    "import tensorflow as tf\n",
    "import tensorflow.keras as K\n",
    "import warnings\n",
    "warnings.filterwarnings('ignore')"
   ]
  },
  {
   "cell_type": "code",
   "execution_count": 3,
   "metadata": {},
   "outputs": [],
   "source": [
    "train = pd.read_csv('sign_mnist_train.csv')\n",
    "test = pd.read_csv('sign_mnist_test.csv')"
   ]
  },
  {
   "cell_type": "code",
   "execution_count": 4,
   "metadata": {},
   "outputs": [],
   "source": [
    "X_train = train.drop('label',axis=1)\n",
    "y_train = train['label']\n",
    "X_test = test.drop('label',axis=1)\n",
    "y_test = test['label']"
   ]
  },
  {
   "cell_type": "code",
   "execution_count": 5,
   "metadata": {},
   "outputs": [],
   "source": [
    "n_x = X_train.shape[0]\n",
    "alph = {0:'a',1:'b',2:'c',3:'d',4:'e',5:'f',6:'g',7:'h',8:'i',9:'k',10:'l',11:'m',12:'n',13:'o',14:'p',15:'q',\n",
    "        16:'r',17:'s',18:'t',19:'u',20:'v',21:'w',22:'x',23:'y'}"
   ]
  },
  {
   "cell_type": "code",
   "execution_count": 6,
   "metadata": {},
   "outputs": [],
   "source": [
    "X_train = X_train.values.reshape(n_x,28,28)\n",
    "X_test = X_test.values.reshape(X_test.shape[0],28,28)"
   ]
  },
  {
   "cell_type": "code",
   "execution_count": 7,
   "metadata": {},
   "outputs": [
    {
     "data": {
      "text/plain": [
       "'g'"
      ]
     },
     "execution_count": 7,
     "metadata": {},
     "output_type": "execute_result"
    },
    {
     "data": {
      "image/png": "[encoded data removed]",
      "text/plain": [
       "<Figure size 432x288 with 1 Axes>"
      ]
     },
     "metadata": {
      "needs_background": "light"
     },
     "output_type": "display_data"
    }
   ],
   "source": [
    "idx = 1\n",
    "plt.imshow(X_train[idx],cmap='Greys')\n",
    "alph[y_train[idx]]"
   ]
  },
  {
   "cell_type": "code",
   "execution_count": 8,
   "metadata": {},
   "outputs": [],
   "source": [
    "X_train = X_train /255\n",
    "X_test =X_test / 255\n",
    "X_train = X_train.reshape(-1,28,28,1)\n",
    "X_test = X_test.reshape(-1,28,28,1)"
   ]
  },
  {
   "cell_type": "code",
   "execution_count": 9,
   "metadata": {},
   "outputs": [],
   "source": [
    "from tensorflow.keras.layers import Conv2D,MaxPool2D,Dense,Flatten,AveragePooling2D\n",
    "from tensorflow.keras.optimizers import Adam\n",
    "from tensorflow.keras.losses import sparse_categorical_crossentropy,categorical_crossentropy\n",
    "from tensorflow.keras.utils import  to_categorical"
   ]
  },
  {
   "cell_type": "code",
   "execution_count": 25,
   "metadata": {},
   "outputs": [],
   "source": [
    "model = K.Sequential()\n",
    "\n",
    "model.add(Conv2D(32,(3,3),input_shape=(28,28,1),activation='relu'))\n",
    "model.add(AveragePooling2D(2,2))\n",
    "\n",
    "model.add(Conv2D(64,(3,3),activation='relu'))\n",
    "model.add(AveragePooling2D(2,2))\n",
    "\n",
    "model.add(Conv2D(64,(3,3),activation='relu'))\n",
    "model.add(AveragePooling2D(2,2))\n",
    "\n",
    "\n",
    "\n",
    "model.add(Flatten())\n",
    "model.add(Dense(256,'relu'))\n",
    "model.add(K.layers.Dropout(0.2))\n",
    "model.add(Dense(256,'relu'))\n",
    "model.add(K.layers.Dropout(0.2))\n",
    "model.add(Dense(512,'relu'))\n",
    "model.add(K.layers.Dropout(0.2))\n",
    "model.add(Dense(128,'relu'))\n",
    "model.add(K.layers.Dropout(0.2))\n",
    "model.add(Dense(25,'softmax'))"
   ]
  },
  {
   "cell_type": "code",
   "execution_count": 26,
   "metadata": {},
   "outputs": [
    {
     "name": "stdout",
     "output_type": "stream",
     "text": [
      "Model: \"sequential_3\"\n",
      "_________________________________________________________________\n",
      "Layer (type)                 Output Shape              Param #   \n",
      "=================================================================\n",
      "conv2d_10 (Conv2D)           (None, 26, 26, 32)        320       \n",
      "_________________________________________________________________\n",
      "average_pooling2d_9 (Average (None, 13, 13, 32)        0         \n",
      "_________________________________________________________________\n",
      "conv2d_11 (Conv2D)           (None, 11, 11, 64)        18496     \n",
      "_________________________________________________________________\n",
      "average_pooling2d_10 (Averag (None, 5, 5, 64)          0         \n",
      "_________________________________________________________________\n",
      "conv2d_12 (Conv2D)           (None, 3, 3, 64)          36928     \n",
      "_________________________________________________________________\n",
      "average_pooling2d_11 (Averag (None, 1, 1, 64)          0         \n",
      "_________________________________________________________________\n",
      "flatten_2 (Flatten)          (None, 64)                0         \n",
      "_________________________________________________________________\n",
      "dense_7 (Dense)              (None, 256)               16640     \n",
      "_________________________________________________________________\n",
      "dropout_5 (Dropout)          (None, 256)               0         \n",
      "_________________________________________________________________\n",
      "dense_8 (Dense)              (None, 256)               65792     \n",
      "_________________________________________________________________\n",
      "dropout_6 (Dropout)          (None, 256)               0         \n",
      "_________________________________________________________________\n",
      "dense_9 (Dense)              (None, 512)               131584    \n",
      "_________________________________________________________________\n",
      "dropout_7 (Dropout)          (None, 512)               0         \n",
      "_________________________________________________________________\n",
      "dense_10 (Dense)             (None, 128)               65664     \n",
      "_________________________________________________________________\n",
      "dropout_8 (Dropout)          (None, 128)               0         \n",
      "_________________________________________________________________\n",
      "dense_11 (Dense)             (None, 25)                3225      \n",
      "=================================================================\n",
      "Total params: 338,649\n",
      "Trainable params: 338,649\n",
      "Non-trainable params: 0\n",
      "_________________________________________________________________\n"
     ]
    }
   ],
   "source": [
    "model.summary()"
   ]
  },
  {
   "cell_type": "code",
   "execution_count": 27,
   "metadata": {},
   "outputs": [],
   "source": [
    "model.compile(Adam(),categorical_crossentropy,['accuracy'])"
   ]
  },
  {
   "cell_type": "code",
   "execution_count": 28,
   "metadata": {},
   "outputs": [],
   "source": [
    "def map_y(y):\n",
    "    new = y.copy()\n",
    "    for i,x in enumerate(y):\n",
    "        if x>9:\n",
    "            new[i] -=1\n",
    "    return new"
   ]
  },
  {
   "cell_type": "code",
   "execution_count": 29,
   "metadata": {},
   "outputs": [
    {
     "data": {
      "text/plain": [
       "(27455, 25)"
      ]
     },
     "execution_count": 29,
     "metadata": {},
     "output_type": "execute_result"
    }
   ],
   "source": [
    "map_y(y_train)\n",
    "to_categorical(y_train).shape"
   ]
  },
  {
   "cell_type": "code",
   "execution_count": 30,
   "metadata": {},
   "outputs": [
    {
     "name": "stdout",
     "output_type": "stream",
     "text": [
      "Train on 27455 samples, validate on 7172 samples\n",
      "Epoch 1/20\n",
      "27455/27455 [==============================] - 4s 138us/sample - loss: 2.9750 - accuracy: 0.0928 - val_loss: 2.3875 - val_accuracy: 0.2216\n",
      "Epoch 2/20\n",
      "27455/27455 [==============================] - 3s 101us/sample - loss: 1.9196 - accuracy: 0.3381 - val_loss: 1.5385 - val_accuracy: 0.4695\n",
      "Epoch 3/20\n",
      "27455/27455 [==============================] - 3s 102us/sample - loss: 1.2244 - accuracy: 0.5632 - val_loss: 0.9152 - val_accuracy: 0.6461\n",
      "Epoch 4/20\n",
      "27455/27455 [==============================] - 3s 100us/sample - loss: 0.7573 - accuracy: 0.7245 - val_loss: 0.7612 - val_accuracy: 0.7351\n",
      "Epoch 5/20\n",
      "27455/27455 [==============================] - 3s 101us/sample - loss: 0.5206 - accuracy: 0.8097 - val_loss: 0.5281 - val_accuracy: 0.8160\n",
      "Epoch 6/20\n",
      "27455/27455 [==============================] - 3s 102us/sample - loss: 0.3736 - accuracy: 0.8663 - val_loss: 0.4103 - val_accuracy: 0.8461\n",
      "Epoch 7/20\n",
      "27455/27455 [==============================] - 3s 101us/sample - loss: 0.2669 - accuracy: 0.9040 - val_loss: 0.4285 - val_accuracy: 0.8415\n",
      "Epoch 8/20\n",
      "27455/27455 [==============================] - 3s 101us/sample - loss: 0.2067 - accuracy: 0.9256 - val_loss: 0.4077 - val_accuracy: 0.8654\n",
      "Epoch 9/20\n",
      "27455/27455 [==============================] - 3s 101us/sample - loss: 0.1469 - accuracy: 0.9504 - val_loss: 0.3634 - val_accuracy: 0.8826\n",
      "Epoch 10/20\n",
      "27455/27455 [==============================] - 3s 103us/sample - loss: 0.1146 - accuracy: 0.9612 - val_loss: 0.3280 - val_accuracy: 0.8940\n",
      "Epoch 11/20\n",
      "27455/27455 [==============================] - 3s 102us/sample - loss: 0.0853 - accuracy: 0.9707 - val_loss: 0.3772 - val_accuracy: 0.8806\n",
      "Epoch 12/20\n",
      "27455/27455 [==============================] - 3s 101us/sample - loss: 0.0771 - accuracy: 0.9746 - val_loss: 0.3416 - val_accuracy: 0.9057\n",
      "Epoch 13/20\n",
      "27455/27455 [==============================] - 3s 101us/sample - loss: 0.0530 - accuracy: 0.9838 - val_loss: 0.3144 - val_accuracy: 0.9177\n",
      "Epoch 14/20\n",
      "27455/27455 [==============================] - 3s 102us/sample - loss: 0.0448 - accuracy: 0.9856 - val_loss: 0.2879 - val_accuracy: 0.9148\n",
      "Epoch 15/20\n",
      "27455/27455 [==============================] - 3s 101us/sample - loss: 0.0492 - accuracy: 0.9834 - val_loss: 0.3237 - val_accuracy: 0.8986\n",
      "Epoch 16/20\n",
      "27455/27455 [==============================] - 3s 101us/sample - loss: 0.0435 - accuracy: 0.9855 - val_loss: 0.3986 - val_accuracy: 0.8949\n",
      "Epoch 17/20\n",
      "27455/27455 [==============================] - 3s 102us/sample - loss: 0.0399 - accuracy: 0.9862 - val_loss: 0.3192 - val_accuracy: 0.9066\n",
      "Epoch 18/20\n",
      "27455/27455 [==============================] - 3s 102us/sample - loss: 0.0290 - accuracy: 0.9904 - val_loss: 0.2805 - val_accuracy: 0.9230\n",
      "Epoch 19/20\n",
      "27455/27455 [==============================] - 3s 103us/sample - loss: 0.0412 - accuracy: 0.9868 - val_loss: 0.3129 - val_accuracy: 0.9156\n",
      "Epoch 20/20\n",
      "27455/27455 [==============================] - 3s 102us/sample - loss: 0.0171 - accuracy: 0.9948 - val_loss: 0.2906 - val_accuracy: 0.9308\n"
     ]
    }
   ],
   "source": [
    "hist = model.fit(X_train,to_categorical(y_train),epochs=20,batch_size=200,validation_data=(X_test,to_categorical(y_test)))"
   ]
  },
  {
   "cell_type": "code",
   "execution_count": 31,
   "metadata": {},
   "outputs": [
    {
     "data": {
      "text/plain": [
       "0        6\n",
       "1        5\n",
       "2        9\n",
       "3        0\n",
       "4        3\n",
       "5       20\n",
       "6        9\n",
       "7       13\n",
       "8        3\n",
       "9        7\n",
       "10       8\n",
       "11       8\n",
       "12      20\n",
       "13      11\n",
       "14       7\n",
       "15       4\n",
       "16      21\n",
       "17       0\n",
       "18       7\n",
       "19       7\n",
       "20       2\n",
       "21       0\n",
       "22      20\n",
       "23       4\n",
       "24       9\n",
       "25      14\n",
       "26       2\n",
       "27      14\n",
       "28       7\n",
       "29       1\n",
       "        ..\n",
       "7142     0\n",
       "7143    13\n",
       "7144    11\n",
       "7145     4\n",
       "7146    17\n",
       "7147    15\n",
       "7148     7\n",
       "7149     3\n",
       "7150    14\n",
       "7151    18\n",
       "7152     1\n",
       "7153    11\n",
       "7154     8\n",
       "7155    22\n",
       "7156    18\n",
       "7157     7\n",
       "7158    11\n",
       "7159     3\n",
       "7160    18\n",
       "7161    23\n",
       "7162     9\n",
       "7163     4\n",
       "7164    13\n",
       "7165     8\n",
       "7166    11\n",
       "7167     1\n",
       "7168    11\n",
       "7169     2\n",
       "7170     4\n",
       "7171     2\n",
       "Name: label, Length: 7172, dtype: int64"
      ]
     },
     "execution_count": 31,
     "metadata": {},
     "output_type": "execute_result"
    }
   ],
   "source": [
    "map_y(y_test)"
   ]
  },
  {
   "cell_type": "code",
   "execution_count": 32,
   "metadata": {},
   "outputs": [
    {
     "data": {
      "image/png": "[encoded data removed]",
      "text/plain": [
       "<Figure size 432x288 with 1 Axes>"
      ]
     },
     "metadata": {
      "needs_background": "light"
     },
     "output_type": "display_data"
    }
   ],
   "source": [
    "plt.plot(hist.history['accuracy'])\n",
    "plt.plot(hist.history['val_accuracy'])\n",
    "plt.title(\"Accuracy\")\n",
    "plt.xlabel('epoch')\n",
    "plt.ylabel('accuracy')\n",
    "plt.legend(['train','test'])\n",
    "plt.show()"
   ]
  },
  {
   "cell_type": "code",
   "execution_count": 33,
   "metadata": {},
   "outputs": [],
   "source": [
    "pred = model.predict(X_test)"
   ]
  },
  {
   "cell_type": "code",
   "execution_count": 34,
   "metadata": {},
   "outputs": [],
   "source": [
    "pred =pred.round()"
   ]
  },
  {
   "cell_type": "markdown",
   "metadata": {},
   "source": [
    "Final accuracy on test set"
   ]
  },
  {
   "cell_type": "code",
   "execution_count": 35,
   "metadata": {},
   "outputs": [
    {
     "name": "stdout",
     "output_type": "stream",
     "text": [
      "0.92930842163971\n"
     ]
    }
   ],
   "source": [
    "from sklearn.metrics import classification_report,accuracy_score\n",
    "print(accuracy_score(to_categorical(y_test),pred))"
   ]
  },
  {
   "cell_type": "code",
   "execution_count": 36,
   "metadata": {},
   "outputs": [
    {
     "name": "stdout",
     "output_type": "stream",
     "text": [
      "              precision    recall  f1-score   support\n",
      "\n",
      "           0       1.00      1.00      1.00       331\n",
      "           1       1.00      0.97      0.98       432\n",
      "           2       0.94      1.00      0.97       310\n",
      "           3       0.94      0.99      0.97       245\n",
      "           4       0.86      1.00      0.92       498\n",
      "           5       1.00      1.00      1.00       247\n",
      "           6       0.81      0.94      0.87       348\n",
      "           7       0.97      0.89      0.93       436\n",
      "           8       0.88      1.00      0.93       288\n",
      "           9       0.00      0.00      0.00         0\n",
      "          10       1.00      0.90      0.95       331\n",
      "          11       0.92      1.00      0.96       209\n",
      "          12       0.96      0.80      0.87       394\n",
      "          13       1.00      0.89      0.94       291\n",
      "          14       1.00      0.86      0.92       246\n",
      "          15       1.00      1.00      1.00       347\n",
      "          16       0.96      1.00      0.98       164\n",
      "          17       0.89      1.00      0.94       144\n",
      "          18       0.73      0.70      0.71       246\n",
      "          19       0.94      0.75      0.84       248\n",
      "          20       0.83      1.00      0.91       266\n",
      "          21       1.00      0.88      0.94       346\n",
      "          22       0.92      1.00      0.96       206\n",
      "          23       0.89      0.92      0.90       267\n",
      "          24       1.00      0.88      0.93       332\n",
      "\n",
      "   micro avg       0.93      0.93      0.93      7172\n",
      "   macro avg       0.90      0.89      0.89      7172\n",
      "weighted avg       0.94      0.93      0.93      7172\n",
      " samples avg       0.93      0.93      0.93      7172\n",
      "\n"
     ]
    }
   ],
   "source": [
    "print(classification_report(to_categorical(y_test),pred))"
   ]
  },
  {
   "cell_type": "code",
   "execution_count": 37,
   "metadata": {},
   "outputs": [
    {
     "name": "stdout",
     "output_type": "stream",
     "text": [
      "r\n",
      "r\n"
     ]
    },
    {
     "data": {
      "text/plain": [
       "<matplotlib.image.AxesImage at 0x13553887048>"
      ]
     },
     "execution_count": 37,
     "metadata": {},
     "output_type": "execute_result"
    },
    {
     "data": {
      "image/png": "[encoded data removed]",
      "text/plain": [
       "<Figure size 432x288 with 1 Axes>"
      ]
     },
     "metadata": {
      "needs_background": "light"
     },
     "output_type": "display_data"
    }
   ],
   "source": [
    "idx = 54\n",
    "print(alph[y_test[idx]])\n",
    "print(alph[pred[idx].argmax()])\n",
    "plt.imshow(X_test[idx].reshape(28,28),cmap='Greys')"
   ]
  },
  {
   "cell_type": "code",
   "execution_count": null,
   "metadata": {},
   "outputs": [],
   "source": []
  }
 ],
 "metadata": {
  "kernelspec": {
   "display_name": "Python 3",
   "language": "python",
   "name": "python3"
  },
  "language_info": {
   "codemirror_mode": {
    "name": "ipython",
    "version": 3
   },
   "file_extension": ".py",
   "mimetype": "text/x-python",
   "name": "python",
   "nbconvert_exporter": "python",
   "pygments_lexer": "ipython3",
   "version": "3.7.3"
  }
 },
 "nbformat": 4,
 "nbformat_minor": 2
}
